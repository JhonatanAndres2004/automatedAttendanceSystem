{
 "cells": [
  {
   "cell_type": "markdown",
   "id": "e24a25c3",
   "metadata": {},
   "source": [
    "Using Whisper - OpenAI"
   ]
  },
  {
   "cell_type": "code",
   "execution_count": null,
   "id": "f3dd21a3",
   "metadata": {},
   "outputs": [],
   "source": [
    "import whisper\n",
    "import numpy as np\n",
    "\n",
    "def transcribe_long_audio(audio_path, model_name=\"base\"):\n",
    "\n",
    "    model = whisper.load_model(model_name)\n",
    "    audio = whisper.load_audio(audio_path)\n",
    "    \n",
    "    audio_sample = whisper.pad_or_trim(audio[:30 * 16000])\n",
    "    mel_sample = whisper.log_mel_spectrogram(audio_sample, n_mels=model.dims.n_mels).to(model.device)\n",
    "    _, probs = model.detect_language(mel_sample)\n",
    "    detected_language = max(probs, key=probs.get)\n",
    "    print(f\"Language Detected: {detected_language}\")\n",
    "    \n",
    "    audio_duration = len(audio) / 16000 \n",
    "    print(f\"Audio Duration: {audio_duration:.2f} seconds\")\n",
    "    \n",
    "    segment_length = 30  \n",
    "    samples_per_segment = segment_length * 16000\n",
    "    \n",
    "    full_text = \"\"\n",
    "    \n",
    "    num_segments = int(np.ceil(len(audio) / samples_per_segment))\n",
    "    \n",
    "    for i in range(num_segments):\n",
    "        start = i * samples_per_segment\n",
    "        end = min(start + samples_per_segment, len(audio))\n",
    "        \n",
    "        print(f\"Transcription of segment {i+1}/{num_segments} ({start/16000:.1f}s - {end/16000:.1f}s)...\")\n",
    "        \n",
    "        audio_segment = audio[start:end]\n",
    "        \n",
    "        audio_segment = whisper.pad_or_trim(audio_segment, segment_length * 16000)\n",
    "        \n",
    "        mel = whisper.log_mel_spectrogram(audio_segment, n_mels=model.dims.n_mels).to(model.device)\n",
    "        \n",
    "        options = whisper.DecodingOptions(language=detected_language, without_timestamps=False)\n",
    "        \n",
    "        result = whisper.decode(model, mel, options)\n",
    "        \n",
    "        segment_text = result.text.strip()\n",
    "        if segment_text:\n",
    "            full_text += segment_text + \" \"\n",
    "    return full_text.strip()\n",
    "\n",
    "# Ejemplo de uso\n",
    "if __name__ == \"__main__\":\n",
    "    audio_path = \"record_out (2).wav\"\n",
    "    model_name = \"medium\" \n",
    "    \n",
    "    transcription = transcribe_long_audio(audio_path, model_name)\n",
    "    \n",
    "    print(\"\\n==== Completed ====\")\n",
    "    print(transcription)\n",
    "    \n",
    "    with open(\"transcription.txt\", \"w\", encoding=\"utf-8\") as f:\n",
    "        f.write(transcription)\n",
    "    print(\"\\nSaved to 'transcription.txt'\")"
   ]
  },
  {
   "cell_type": "markdown",
   "id": "6dc352fb",
   "metadata": {},
   "source": [
    "Using Google's Speech Recognition"
   ]
  },
  {
   "cell_type": "code",
   "execution_count": null,
   "id": "ea0d4adf",
   "metadata": {},
   "outputs": [],
   "source": [
    "import speech_recognition as sr\n",
    "\n",
    "def transcribe_audio(file_path=None):\n",
    "\n",
    "    recognizer = sr.Recognizer()\n",
    "    \n",
    "    try:\n",
    "        if file_path:\n",
    "            with sr.AudioFile(file_path) as fuente:\n",
    "                print(\"Processing...\")\n",
    "                audio = recognizer.record(fuente)\n",
    "        \n",
    "        text = recognizer.recognize_google(audio, language=\"es-ES\")\n",
    "        print(f\"Recognized text: {text}\")\n",
    "        return text\n",
    "    \n",
    "    except sr.UnknownValueError:\n",
    "        print(\"Impossible to understand the audio\")\n",
    "        return \"\"\n",
    "    except sr.RequestError as e:\n",
    "        print(f\"Error with Google Speech Recognition; {e}\")\n",
    "        return \"\"\n",
    "\n",
    "if __name__ == \"__main__\":\n",
    "\n",
    "    text = transcribe_audio(\"record_out (2).wav\")"
   ]
  }
 ],
 "metadata": {
  "kernelspec": {
   "display_name": "Python 3",
   "language": "python",
   "name": "python3"
  },
  "language_info": {
   "codemirror_mode": {
    "name": "ipython",
    "version": 3
   },
   "file_extension": ".py",
   "mimetype": "text/x-python",
   "name": "python",
   "nbconvert_exporter": "python",
   "pygments_lexer": "ipython3",
   "version": "3.12.2"
  }
 },
 "nbformat": 4,
 "nbformat_minor": 5
}
